{
 "cells": [
  {
   "cell_type": "code",
   "execution_count": null,
   "id": "740cfef2",
   "metadata": {},
   "outputs": [],
   "source": [
    "from pyalex import Works, invert_abstract\n",
    "import pandas as pd\n",
    "from sentence_transformers import SentenceTransformer\n"
   ]
  },
  {
   "cell_type": "code",
   "execution_count": 3,
   "id": "59f18f8d",
   "metadata": {},
   "outputs": [],
   "source": [
    "results = await Works().search(\"machine learning\").get()"
   ]
  },
  {
   "cell_type": "code",
   "execution_count": 5,
   "id": "2a07bb8a",
   "metadata": {},
   "outputs": [],
   "source": [
    "df = pd.DataFrame(results)\n"
   ]
  },
  {
   "cell_type": "code",
   "execution_count": 11,
   "id": "b32e877f",
   "metadata": {},
   "outputs": [],
   "source": [
    "df['abstract'] = df.abstract_inverted_index.map(invert_abstract)"
   ]
  },
  {
   "cell_type": "code",
   "execution_count": 13,
   "id": "b430c330",
   "metadata": {},
   "outputs": [],
   "source": [
    "df['titleabs'] = df['title'] + '\\n' + df['abstract']"
   ]
  },
  {
   "cell_type": "code",
   "execution_count": 17,
   "id": "934c6c7f",
   "metadata": {},
   "outputs": [
    {
     "data": {
      "text/plain": [
       "'Genetic algorithms in search, optimization, and machine learning\\nFrom the Publisher:\\r\\nThis book brings together - in an informal and tutorial fashion - the computer techniques, mathematical tools, and research results that will enable both students and practitioners to apply genetic algorithms to problems in many fields. \\r\\n\\r\\nMajor concepts are illustrated with running examples, and major algorithms are illustrated by Pascal computer programs. No prior knowledge of GAs or genetics is assumed, and only a minimum of computer programming and mathematics background is required.'"
      ]
     },
     "execution_count": 17,
     "metadata": {},
     "output_type": "execute_result"
    }
   ],
   "source": [
    "df.titleabs.iloc[0]"
   ]
  },
  {
   "cell_type": "code",
   "execution_count": null,
   "id": "25e84801",
   "metadata": {},
   "outputs": [],
   "source": []
  }
 ],
 "metadata": {
  "kernelspec": {
   "display_name": "pyalex (3.12.11)",
   "language": "python",
   "name": "python3"
  },
  "language_info": {
   "codemirror_mode": {
    "name": "ipython",
    "version": 3
   },
   "file_extension": ".py",
   "mimetype": "text/x-python",
   "name": "python",
   "nbconvert_exporter": "python",
   "pygments_lexer": "ipython3",
   "version": "3.12.11"
  }
 },
 "nbformat": 4,
 "nbformat_minor": 5
}
