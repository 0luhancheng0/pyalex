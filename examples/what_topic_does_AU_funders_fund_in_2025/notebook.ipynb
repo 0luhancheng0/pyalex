{
 "cells": [
  {
   "cell_type": "code",
   "execution_count": 3,
   "id": "c4af5ad9",
   "metadata": {},
   "outputs": [],
   "source": [
    "import pandas as pd"
   ]
  },
  {
   "cell_type": "code",
   "execution_count": 65,
   "id": "1a8c2c83",
   "metadata": {},
   "outputs": [],
   "source": [
    "df24 = pd.read_json(\"2024_works.json\")\n",
    "df25 = pd.read_json(\"2025_works.json\")"
   ]
  },
  {
   "cell_type": "code",
   "execution_count": 76,
   "id": "162f4412",
   "metadata": {},
   "outputs": [],
   "source": [
    "domain24 = pd.json_normalize(df24.primary_topic)['domain.display_name']\n",
    "domain25 = pd.json_normalize(df25.primary_topic)['domain.display_name']"
   ]
  },
  {
   "cell_type": "code",
   "execution_count": null,
   "id": "71f2a904",
   "metadata": {},
   "outputs": [],
   "source": []
  }
 ],
 "metadata": {
  "kernelspec": {
   "display_name": "rapids-24.12",
   "language": "python",
   "name": "python3"
  },
  "language_info": {
   "codemirror_mode": {
    "name": "ipython",
    "version": 3
   },
   "file_extension": ".py",
   "mimetype": "text/x-python",
   "name": "python",
   "nbconvert_exporter": "python",
   "pygments_lexer": "ipython3",
   "version": "3.12.8"
  }
 },
 "nbformat": 4,
 "nbformat_minor": 5
}
